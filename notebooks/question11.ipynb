{
 "cells": [
  {
   "cell_type": "markdown",
   "id": "d0f82729-e1f3-4ac9-9774-a1e572dba657",
   "metadata": {},
   "source": [
    "# Maria Morozova\n",
    "Notebook for assignment 7"
   ]
  },
  {
   "cell_type": "code",
   "execution_count": 1,
   "id": "27bf88e8-4f38-4735-a8c8-c1da68c76813",
   "metadata": {},
   "outputs": [
    {
     "name": "stdout",
     "output_type": "stream",
     "text": [
      "5.0\n"
     ]
    }
   ],
   "source": [
    "def compute_mean(numbers):\n",
    "    \"\"\"Computes the mean of a list of numbers.\"\"\"\n",
    "    return sum(numbers) / len(numbers)\n",
    "\n",
    "print(compute_mean([2, 4, 6, 8]))"
   ]
  },
  {
   "cell_type": "markdown",
   "id": "549bb652-a54b-49a8-b263-b3a52a114745",
   "metadata": {},
   "source": [
    "## Explanation\n",
    "The function `compute_mean` calculates the arithmetic mean of a list of numbers. It takes a list as input, sums all the elements, and divides the sum by the count of elements in the list.\n",
    "\n",
    "### Mean Equation\n",
    "$$\n",
    "\\bar{x} = \\frac{x_1 + x_2 + \\cdots + x_n}{n} = \\frac{1}{n} \\left( \\sum_{i=1}^n x_i \\right)\n",
    "$$\n"
   ]
  }
 ],
 "metadata": {
  "kernelspec": {
   "display_name": "Python [conda env:base] *",
   "language": "python",
   "name": "conda-base-py"
  },
  "language_info": {
   "codemirror_mode": {
    "name": "ipython",
    "version": 3
   },
   "file_extension": ".py",
   "mimetype": "text/x-python",
   "name": "python",
   "nbconvert_exporter": "python",
   "pygments_lexer": "ipython3",
   "version": "3.11.7"
  }
 },
 "nbformat": 4,
 "nbformat_minor": 5
}
